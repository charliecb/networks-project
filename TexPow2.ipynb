{
 "cells": [
  {
   "cell_type": "code",
   "execution_count": 62,
   "outputs": [],
   "source": [
    "import gurobipy as gp\n",
    "from gurobipy import GRB\n",
    "import pandas as pd\n",
    "import matplotlib.pyplot as plt\n",
    "from math import sin, cos, sqrt, atan2, radians"
   ],
   "metadata": {
    "collapsed": false,
    "pycharm": {
     "name": "#%%\n"
    }
   }
  },
  {
   "cell_type": "code",
   "execution_count": 63,
   "outputs": [],
   "source": [
    "# import data\n",
    "links = pd.read_csv(\"links.csv\")\n",
    "nodes = pd.read_csv(\"nodes.csv\")\n",
    "loads = pd.read_csv(\"loads2.csv\")"
   ],
   "metadata": {
    "collapsed": false,
    "pycharm": {
     "name": "#%%\n"
    }
   }
  },
  {
   "cell_type": "code",
   "execution_count": 64,
   "outputs": [],
   "source": [
    "links = links.groupby(['Node1', 'Node2']).sum()\n",
    "\n",
    "# parameters\n",
    "loss = 0.05 / 100  # loss per mile (2% per 100mi)\n",
    "T = 42370  # TIME STEP JAN 1 2010\n",
    "solar = 0.5  # amount of solar available\n",
    "\n",
    "# time steps\n",
    "TIMES = loads['Time'][:24].values\n",
    "\n"
   ],
   "metadata": {
    "collapsed": false,
    "pycharm": {
     "name": "#%%\n"
    }
   }
  },
  {
   "cell_type": "code",
   "execution_count": 65,
   "outputs": [],
   "source": [
    "def dist(lat1in, lat2in, lon1in, lon2in):\n",
    "    # approximate radius of earth in miles\n",
    "    R = 3958.8\n",
    "\n",
    "    lat1 = radians(lat1in)\n",
    "    lon1 = radians(lon1in)\n",
    "    lat2 = radians(lat2in)\n",
    "    lon2 = radians(lon2in)\n",
    "\n",
    "    dlon = lon2 - lon1\n",
    "    dlat = lat2 - lat1\n",
    "\n",
    "    a = sin(dlat / 2) ** 2 + cos(lat1) * cos(lat2) * sin(dlon / 2) ** 2\n",
    "    c = 2 * atan2(sqrt(a), sqrt(1 - a))\n",
    "\n",
    "    return R * c\n"
   ],
   "metadata": {
    "collapsed": false,
    "pycharm": {
     "name": "#%%\n"
    }
   }
  },
  {
   "cell_type": "code",
   "execution_count": 66,
   "outputs": [],
   "source": [
    "# create model\n",
    "m = gp.Model(\"test\")\n",
    "m.setParam('OutputFlag', 0)\n",
    "\n",
    "# create cost function\n",
    "cost = gp.LinExpr(0)\n",
    "\n",
    "# dictionary of junction (net power) equations at each node\n",
    "j = {}\n",
    "\n",
    "# create a linear expression at each node\n",
    "for i in nodes.index:\n",
    "    node = nodes['Node'][i]\n",
    "    j[node] = gp.LinExpr(0)\n"
   ],
   "metadata": {
    "collapsed": false,
    "pycharm": {
     "name": "#%%\n"
    }
   }
  },
  {
   "cell_type": "code",
   "execution_count": 67,
   "outputs": [],
   "source": [
    "# FLOWS dictionary indexed by tuple (from, to) pairs\n",
    "f = {}\n",
    "\n",
    "# distance dictionary indexed by tuple\n",
    "d = {}\n",
    "\n",
    "# create flow variables\n",
    "for i in links.index:\n",
    "    # index nodes\n",
    "    n1 = i[0]\n",
    "    n2 = i[1]\n",
    "\n",
    "    # create flow (decision) variable in each direction\n",
    "    f[(n1, n2)] = m.addVar(lb=0, ub=links['Limit'][i])\n",
    "    f[(n2, n1)] = m.addVar(lb=0, ub=links['Limit'][i])\n",
    "\n",
    "    # FIND DISTANCE\n",
    "    lat1 = nodes.loc[nodes['Node'] == n1, 'Latitude'].values[0]\n",
    "    lat2 = nodes.loc[nodes['Node'] == n2, 'Latitude'].values[0]\n",
    "    long1 = nodes.loc[nodes['Node'] == n1, 'Longitude'].values[0]\n",
    "    long2 = nodes.loc[nodes['Node'] == n2, 'Longitude'].values[0]\n",
    "    distance = dist(lat1, lat2, long1, long2)\n",
    "\n",
    "    d[(n1, n2)] = distance\n",
    "    d[(n2, n1)] = distance\n",
    "\n",
    "    # add costs to objective\n",
    "    cost.add(f[(n1, n2)], loss * distance)\n",
    "    cost.add(f[(n2, n1)], loss * distance)\n",
    "\n",
    "    # add to junctions (net power balance)\n",
    "    j[n1].add(f[(n1, n2)], -1)\n",
    "    j[n1].add(f[(n2, n1)], (1 - loss * distance))\n",
    "    j[n2].add(f[(n1, n2)], (1 - loss * distance))\n",
    "    j[n2].add(f[(n2, n1)], -1)\n",
    "\n",
    "J_CONST = j"
   ],
   "metadata": {
    "collapsed": false,
    "pycharm": {
     "name": "#%%\n"
    }
   }
  },
  {
   "cell_type": "code",
   "execution_count": 68,
   "outputs": [],
   "source": [
    "\n",
    "# filter to generating nodes\n",
    "gens = nodes[nodes['Limit'] > 0]\n",
    "\n",
    "# dictionary of generator decision variables\n",
    "g = {}\n",
    "\n",
    "for i in gens.index:\n",
    "    # add the decision variable\n",
    "    node = gens['Node'][i]\n",
    "    lim = gens['Limit'][i]\n",
    "\n",
    "    # scale solar\n",
    "    if gens['Type'][i] == 'Solar':\n",
    "        lim *= solar\n",
    "\n",
    "    g[node] = m.addVar(lb=0, ub=lim)\n",
    "\n",
    "    # add generation to net power at node\n",
    "    j[node].add(g[node])\n",
    "\n",
    "    # add cost to objective\n",
    "    if gens['Type'][i] == 'Natural Gas':\n",
    "        cost.add(g[node])\n",
    "\n",
    "    if gens['Type'][i] == 'Coal':\n",
    "        cost.add(g[node])\n"
   ],
   "metadata": {
    "collapsed": false,
    "pycharm": {
     "name": "#%%\n"
    }
   }
  },
  {
   "cell_type": "code",
   "execution_count": 69,
   "outputs": [],
   "source": [
    "# LOADS\n",
    "t_loads = loads.loc[loads['Time'] == T]\n",
    "t_loads = t_loads.drop(columns=['Time', 'Net'])\n",
    "\n",
    "# add to junction sets\n",
    "for col in t_loads:\n",
    "    j[int(col)].add(-1 * t_loads[col].values[0])"
   ],
   "metadata": {
    "collapsed": false,
    "pycharm": {
     "name": "#%%\n"
    }
   }
  },
  {
   "cell_type": "code",
   "execution_count": 70,
   "outputs": [],
   "source": [
    "# Constraints\n",
    "c = {}\n",
    "\n",
    "for i in nodes.index:\n",
    "    node = nodes['Node'][i]\n",
    "    c[node] = m.addConstr(j[node] == 0)\n",
    "\n",
    "# Objective\n",
    "obj = m.setObjective(cost, GRB.MINIMIZE)\n",
    "\n",
    "# Optimize\n",
    "m.optimize()"
   ],
   "metadata": {
    "collapsed": false,
    "pycharm": {
     "name": "#%%\n"
    }
   }
  },
  {
   "cell_type": "code",
   "execution_count": 71,
   "outputs": [
    {
     "name": "stdout",
     "output_type": "stream",
     "text": [
      "\n",
      "-----\n",
      "\n",
      "Generation\n",
      "Coal: \t 0.05 of total (0.12 of capacity)\n",
      "Natural Gas: \t 0.43 of total (0.28 of capacity)\n",
      "Nuclear: \t 0.14 of total (1.00 of capacity)\n",
      "Hydro: \t 0.03 of total (1.00 of capacity)\n",
      "Wind: \t 0.34 of total (0.99 of capacity)\n",
      "Solar: \t 0.01 of total (1.00 of capacity)\n",
      "\n",
      "Transmission\n",
      "Overall Efficiency: 0.96\n",
      "Average Distance: 81.19\n"
     ]
    }
   ],
   "source": [
    "# Generation Metrics\n",
    "usage = {'Coal': 0, 'Natural Gas': 0, 'Nuclear': 0, 'Hydro': 0, 'Wind': 0, 'Solar': 0}\n",
    "limit = {'Coal': 0, 'Natural Gas': 0, 'Nuclear': 0, 'Hydro': 0, 'Wind': 0, 'Solar': 0}\n",
    "\n",
    "for i in gens.index:\n",
    "    node = gens['Node'][i]\n",
    "    usage[gens['Type'][i]] += g[node].getAttr(\"x\")\n",
    "    limit[gens['Type'][i]] += g[node].getAttr(\"UB\")\n",
    "\n",
    "tot_gen = sum(usage[i] for i in usage)\n",
    "\n",
    "print(\"\\n-----\\n\")\n",
    "print(\"Generation\")\n",
    "for i in usage:\n",
    "    print(\"%s: \\t %.2f of total (%0.2f of capacity)\" % (i, usage[i] / tot_gen, usage[i] / limit[i]))\n",
    "\n",
    "# Flow Metrics\n",
    "# Total Efficiency\n",
    "print(\"\\nTransmission\")\n",
    "print(\"Overall Efficiency: %.2f\" % (loads.loc[loads['Time'] == T]['Net'].values[0] / tot_gen))\n",
    "\n",
    "# Average Distance Traveled\n",
    "powdist = sum((f[i].getAttr(\"x\") * d[i]) for i in f)\n",
    "print(\"Average Distance: %.2f\" % (powdist / tot_gen))\n",
    "\n",
    "# Average Utilization\n",
    "# Percent of Binding Links"
   ],
   "metadata": {
    "collapsed": false,
    "pycharm": {
     "name": "#%%\n"
    }
   }
  }
 ],
 "metadata": {
  "kernelspec": {
   "display_name": "Python 3",
   "language": "python",
   "name": "python3"
  },
  "language_info": {
   "codemirror_mode": {
    "name": "ipython",
    "version": 3
   },
   "file_extension": ".py",
   "mimetype": "text/x-python",
   "name": "python",
   "nbconvert_exporter": "python",
   "pygments_lexer": "ipython3",
   "version": "3.8.5"
  }
 },
 "nbformat": 4,
 "nbformat_minor": 4
}