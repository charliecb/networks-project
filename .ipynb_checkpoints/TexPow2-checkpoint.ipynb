{
 "cells": [
  {
   "cell_type": "code",
   "execution_count": 1,
   "metadata": {
    "pycharm": {
     "name": "#%%\n"
    }
   },
   "outputs": [],
   "source": [
    "import gurobipy as gp\n",
    "from gurobipy import GRB\n",
    "import pandas as pd\n",
    "import matplotlib.pyplot as plt\n",
    "from math import sin, cos, sqrt, atan2, radians"
   ]
  },
  {
   "cell_type": "code",
   "execution_count": 2,
   "metadata": {
    "pycharm": {
     "name": "#%%\n"
    }
   },
   "outputs": [],
   "source": [
    "# import data\n",
    "links = pd.read_csv(\"links.csv\")\n",
    "nodes = pd.read_csv(\"nodes.csv\")\n",
    "loads = pd.read_csv(\"loads2.csv\")"
   ]
  },
  {
   "cell_type": "code",
   "execution_count": 3,
   "metadata": {
    "pycharm": {
     "name": "#%%\n"
    }
   },
   "outputs": [
    {
     "name": "stdout",
     "output_type": "stream",
     "text": [
      "Academic license - for non-commercial use only - expires 2021-06-26\n",
      "Using license file C:\\Users\\conno\\gurobi.lic\n"
     ]
    }
   ],
   "source": [
    "links = links.groupby(['Node1', 'Node2']).sum()\n",
    "\n",
    "# parameters\n",
    "loss = 0.05 # loss per mile\n",
    "T = 42370 # TIME STEP JAN 1 2010\n",
    "\n",
    "# create model\n",
    "m = gp.Model(\"test\")\n",
    "\n",
    "# create cost function\n",
    "cost = gp.LinExpr(0)"
   ]
  },
  {
   "cell_type": "code",
   "execution_count": 4,
   "metadata": {
    "pycharm": {
     "name": "#%%\n"
    }
   },
   "outputs": [],
   "source": [
    "def dist(lat1, lat2, lon1, lon2):\n",
    "    # approximate radius of earth in miles\n",
    "    R = 3958.8\n",
    "\n",
    "    lat1 = radians(52.2296756)\n",
    "    lon1 = radians(21.0122287)\n",
    "    lat2 = radians(52.406374)\n",
    "    lon2 = radians(16.9251681)\n",
    "\n",
    "    dlon = lon2 - lon1\n",
    "    dlat = lat2 - lat1\n",
    "\n",
    "    a = sin(dlat / 2)**2 + cos(lat1) * cos(lat2) * sin(dlon / 2)**2\n",
    "    c = 2 * atan2(sqrt(a), sqrt(1 - a))\n",
    "\n",
    "    return R * c"
   ]
  },
  {
   "cell_type": "code",
   "execution_count": 5,
   "metadata": {
    "pycharm": {
     "name": "#%%\n"
    }
   },
   "outputs": [],
   "source": [
    "# dictionary of junction (net power) equations at each node\n",
    "j = {}\n",
    "\n",
    "# create a linear expression at each node\n",
    "for i in nodes.index:\n",
    "    node = nodes['Node'][i]\n",
    "    j[node] = gp.LinExpr(0)\n",
    "\n",
    "# filter to generating nodes\n",
    "gens = nodes[nodes['Limit'] > 0]\n",
    "\n",
    "# dictionary of generator decision variables\n",
    "g = {}\n",
    "\n",
    "for i in gens.index:\n",
    "    # add the decision variable\n",
    "    node = gens['Node'][i]\n",
    "    g[node] = m.addVar(lb = 0, ub = gens['Limit'][i])\n",
    "\n",
    "    # add generation to net power at node\n",
    "    j[node].add(g[node])\n",
    "\n",
    "    # add cost to objective\n",
    "    if gens['Type'][i] == 'Natural Gas':\n",
    "        cost.add(g[node])\n",
    "\n",
    "    if gens['Type'][i] == 'Coal':\n",
    "        cost.add(g[node])"
   ]
  },
  {
   "cell_type": "code",
   "execution_count": 6,
   "metadata": {
    "pycharm": {
     "name": "#%%\n"
    }
   },
   "outputs": [],
   "source": [
    "# FLOWS dictionary indexed by tuple (from, to) pairs\n",
    "f = {}\n",
    "\n",
    "# create flow variables\n",
    "for i in links.index:\n",
    "    # index nodes\n",
    "    n1 = i[0]\n",
    "    n2 = i[1]\n",
    "\n",
    "    # create flow (decision) variable in each direction\n",
    "    f[(n1, n2)] = m.addVar(lb = 0, ub = links['Limit'][i])\n",
    "    f[(n2, n1)] = m.addVar(lb = 0, ub = links['Limit'][i])\n",
    "\n",
    "    # FIND DISTANCE\n",
    "    lat1 = nodes.loc[nodes['Node'] == n1 , 'Latitude'].values[0]\n",
    "    lat2 = nodes.loc[nodes['Node'] == n2 , 'Latitude'].values[0]\n",
    "    long1 = nodes.loc[nodes['Node'] == n1 , 'Longitude'].values[0]\n",
    "    long2 = nodes.loc[nodes['Node'] == n2 , 'Longitude'].values[0]\n",
    "    distance = dist(lat1, lat2, long1, long2)\n",
    "\n",
    "    # add costs to objective\n",
    "    cost.add(f[(n1, n2)], loss*distance)\n",
    "    cost.add(f[(n2, n1)], loss*distance)\n",
    "\n",
    "    # add to junctions (net power balance)\n",
    "    j[n1].add(f[(n1,n2)], -1)\n",
    "    j[n1].add(f[(n2,n1)], 1)\n",
    "    j[n2].add(f[(n1,n2)], 1)\n",
    "    j[n2].add(f[(n2,n1)], -1)"
   ]
  },
  {
   "cell_type": "code",
   "execution_count": 7,
   "metadata": {
    "pycharm": {
     "name": "#%%\n"
    }
   },
   "outputs": [],
   "source": [
    "# LOADS\n",
    "t_loads = loads.loc[loads['Time'] == T]\n",
    "t_loads = t_loads.drop(columns = ['Time', 'Net'])\n",
    "\n",
    "# add to junction sets\n",
    "for col in t_loads:\n",
    "    j[int(col)].add(-1*t_loads[col][0])\n"
   ]
  },
  {
   "cell_type": "code",
   "execution_count": 8,
   "metadata": {
    "pycharm": {
     "name": "#%%\n"
    }
   },
   "outputs": [
    {
     "name": "stdout",
     "output_type": "stream",
     "text": [
      "Gurobi Optimizer version 9.1.2 build v9.1.2rc0 (win64)\n",
      "Thread count: 4 physical cores, 8 logical processors, using up to 8 threads\n",
      "Optimize a model with 2000 rows, 5821 columns and 11157 nonzeros\n",
      "Model fingerprint: 0x78bca1dd\n",
      "Coefficient statistics:\n",
      "  Matrix range     [1e+00, 1e+00]\n",
      "  Objective range  [1e+00, 9e+00]\n",
      "  Bounds range     [1e+00, 6e+03]\n",
      "  RHS range        [5e-02, 2e+02]\n",
      "Presolve removed 503 rows and 1302 columns\n",
      "Presolve time: 0.02s\n",
      "Presolved: 1497 rows, 4519 columns, 8847 nonzeros\n",
      "\n",
      "Iteration    Objective       Primal Inf.    Dual Inf.      Time\n",
      "       0    5.2704273e+02   4.357882e+03   0.000000e+00      0s\n",
      "    3145    1.4317163e+06   0.000000e+00   0.000000e+00      0s\n",
      "\n",
      "Solved in 3145 iterations and 0.05 seconds\n",
      "Optimal objective  1.431716276e+06\n"
     ]
    }
   ],
   "source": [
    "# Constraints\n",
    "c = {}\n",
    "\n",
    "for i in nodes.index:\n",
    "    node = nodes['Node'][i]\n",
    "    c[node] = m.addConstr(j[node] == 0)\n",
    "\n",
    "# Objective\n",
    "obj = m.setObjective(cost, GRB.MINIMIZE)\n",
    "\n",
    "# Optimize\n",
    "m.optimize()"
   ]
  },
  {
   "cell_type": "code",
   "execution_count": 11,
   "metadata": {
    "pycharm": {
     "name": "#%%\n"
    }
   },
   "outputs": [
    {
     "data": {
      "image/png": "[encoded data removed]",
      "text/plain": [
       "<Figure size 432x288 with 1 Axes>"
      ]
     },
     "metadata": {
      "needs_background": "light"
     },
     "output_type": "display_data"
    }
   ],
   "source": [
    "# Plot\n",
    "ax = plt.axes()\n",
    "\n",
    "for i in m.getAttr('x', f):\n",
    "    n1 = i[0]\n",
    "    n2 = i[1]\n",
    "\n",
    "    lat1 = nodes.loc[nodes['Node'] == n1 , 'Latitude'].values[0]\n",
    "    lat2 = nodes.loc[nodes['Node'] == n2 , 'Latitude'].values[0]\n",
    "    long1 = nodes.loc[nodes['Node'] == n1 , 'Longitude'].values[0]\n",
    "    long2 = nodes.loc[nodes['Node'] == n2 , 'Longitude'].values[0]\n",
    "\n",
    "    if m.getAttr('x', f)[i] > 0:\n",
    "        ax.arrow(long1, lat1, long2-long1, lat2-lat1, shape = 'full', length_includes_head = True, width = m.getAttr('x', f)[i]/10000)\n"
   ]
  }
 ],
 "metadata": {
  "kernelspec": {
   "display_name": "Python 3",
   "language": "python",
   "name": "python3"
  },
  "language_info": {
   "codemirror_mode": {
    "name": "ipython",
    "version": 3
   },
   "file_extension": ".py",
   "mimetype": "text/x-python",
   "name": "python",
   "nbconvert_exporter": "python",
   "pygments_lexer": "ipython3",
   "version": "3.8.5"
  }
 },
 "nbformat": 4,
 "nbformat_minor": 4
}
