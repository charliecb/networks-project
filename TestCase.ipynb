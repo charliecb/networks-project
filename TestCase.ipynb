{
 "cells": [
  {
   "cell_type": "code",
   "execution_count": 10,
   "metadata": {},
   "outputs": [],
   "source": [
    "import gurobipy as gp\n",
    "from gurobipy import GRB\n",
    "import pandas as pd\n",
    "import matplotlib.pyplot as plt"
   ]
  },
  {
   "cell_type": "code",
   "execution_count": 11,
   "outputs": [],
   "source": [
    "# import data\n",
    "links = pd.read_csv(\"testlinks.csv\")\n",
    "nodes = pd.read_csv(\"testnodes.csv\")\n",
    "loads = pd.read_csv(\"testloads.csv\")"
   ],
   "metadata": {
    "collapsed": false,
    "pycharm": {
     "name": "#%%\n"
    }
   }
  },
  {
   "cell_type": "code",
   "execution_count": 12,
   "outputs": [],
   "source": [
    "# parameters\n",
    "e = 0.9995 #efficiency per mile\n",
    "\n",
    "# indices of generating nodes\n",
    "gen_nodes = [1,4]\n",
    "gen_costs = [0,1]\n",
    "gen_lims = [6, 10]"
   ],
   "metadata": {
    "collapsed": false,
    "pycharm": {
     "name": "#%%\n"
    }
   }
  },
  {
   "cell_type": "code",
   "execution_count": 22,
   "metadata": {
    "pycharm": {
     "name": "#%%\n"
    }
   },
   "outputs": [
    {
     "name": "stdout",
     "output_type": "stream",
     "text": [
      "Gurobi Optimizer version 9.1.2 build v9.1.2rc0 (win64)\n",
      "Thread count: 4 physical cores, 8 logical processors, using up to 8 threads\n",
      "Optimize a model with 4 rows, 10 columns and 18 nonzeros\n",
      "Model fingerprint: 0x8388d30a\n",
      "Coefficient statistics:\n",
      "  Matrix range     [1e+00, 1e+00]\n",
      "  Objective range  [1e-02, 1e+00]\n",
      "  Bounds range     [5e+00, 1e+01]\n",
      "  RHS range        [5e+00, 7e+00]\n",
      "Presolve removed 4 rows and 10 columns\n",
      "Presolve time: 0.02s\n",
      "Presolve: All rows and columns removed\n",
      "Iteration    Objective       Primal Inf.    Dual Inf.      Time\n",
      "       0    6.0600000e+00   0.000000e+00   0.000000e+00      0s\n",
      "\n",
      "Solved in 0 iterations and 0.02 seconds\n",
      "Optimal objective  6.060000000e+00\n",
      "{(1, 2): 6.0, (2, 1): 0.0, (2, 3): 2.0, (3, 2): 0.0, (2, 4): 0.0, (4, 2): 1.0, (3, 4): 0.0, (4, 3): 5.0}\n"
     ]
    }
   ],
   "source": [
    "# Create a new model\n",
    "m = gp.Model(\"test\")\n",
    "\n",
    "# Generators\n",
    "g = {}\n",
    "g[1] = m.addVar(lb = 0, ub = 6)\n",
    "g[4] = m.addVar(lb = 0, ub = 10)\n",
    "\n",
    "# Flow\n",
    "f = {}\n",
    "\n",
    "f[(1,2)] = m.addVar(lb = 0, ub = 10)\n",
    "f[(2,1)] = m.addVar(lb = 0, ub = 10)\n",
    "\n",
    "f[(2,3)] = m.addVar(lb = 0, ub = 5)\n",
    "f[(3,2)] = m.addVar(lb = 0, ub = 5)\n",
    "\n",
    "f[(2,4)] = m.addVar(lb = 0, ub = 5)\n",
    "f[(4,2)] = m.addVar(lb = 0, ub = 5)\n",
    "\n",
    "f[(3,4)] = m.addVar(lb = 0, ub = 5)\n",
    "f[(4,3)] = m.addVar(lb = 0, ub = 5)\n",
    "\n",
    "# Junctions\n",
    "j = {}\n",
    "\n",
    "j[1] = m.addConstr(g[1] + f[(2,1)] - f[(1,2)] == 0)\n",
    "j[2] = m.addConstr(f[(1,2)] - f[(2,1)] + f[(3,2)] - f[(2,3)] + f[(4,2)] - f[(2,4)] == 5)\n",
    "j[2] = m.addConstr(f[(2,3)] - f[(3,2)] + f[(4,3)] - f[(3,4)] == 7)\n",
    "j[4] = m.addConstr(g[4] + f[(2,4)] + f[(3,4)] - f[(4,2)] - f[(4,3)] == 0)\n",
    "\n",
    "# Objective\n",
    "cost = gp.LinExpr(0)\n",
    "cost.add(g[4])\n",
    "cost.add(f[(1,2)], 0.01)\n",
    "cost.add(f[(2,1)], 0.01)\n",
    "\n",
    "obj = m.setObjective(cost, GRB.MINIMIZE)\n",
    "\n",
    "# Optimize\n",
    "m.optimize()\n",
    "\n",
    "# Print\n",
    "print(m.getAttr('x', f))\n",
    "\n"
   ]
  }
 ],
 "metadata": {
  "kernelspec": {
   "display_name": "Python 3",
   "language": "python",
   "name": "python3"
  },
  "language_info": {
   "codemirror_mode": {
    "name": "ipython",
    "version": 3
   },
   "file_extension": ".py",
   "mimetype": "text/x-python",
   "name": "python",
   "nbconvert_exporter": "python",
   "pygments_lexer": "ipython3",
   "version": "3.8.5"
  }
 },
 "nbformat": 4,
 "nbformat_minor": 4
}